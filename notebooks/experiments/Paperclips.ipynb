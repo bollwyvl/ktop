{
 "cells": [
  {
   "cell_type": "code",
   "execution_count": 102,
   "metadata": {},
   "outputs": [],
   "source": [
    "import ktop as kt\n",
    "from collections import OrderedDict\n",
    "from nbconvert.filters import markdown2html_mistune"
   ]
  },
  {
   "cell_type": "code",
   "execution_count": 103,
   "metadata": {},
   "outputs": [],
   "source": [
    "def markdown(text):\n",
    "    return kt.W.HTML(markdown2html_mistune(text))"
   ]
  },
  {
   "cell_type": "code",
   "execution_count": 105,
   "metadata": {},
   "outputs": [],
   "source": [
    "class InterdimensionalBinderclips(kt.W.VBox):\n",
    "    _init_props = OrderedDict()\n",
    "\n",
    "    def init(self):\n",
    "        self._props = OrderedDict()\n",
    "        self._view = OrderedDict()\n",
    "\n",
    "        for name, prop in self._init_props.items():\n",
    "            self._props[name], self._view[name] = prop(self._props, self._view)\n",
    "        \n",
    "        self.children = self.make_children()\n",
    "        return self\n",
    "    \n",
    "    def make_children(self):\n",
    "        v = self._view\n",
    "\n",
    "        return [\n",
    "            kt.W.VBox([\n",
    "                kt.W.VBox([\n",
    "                    v[\"clips_history\"],\n",
    "                    v[\"btn_make_clip\"],\n",
    "                ]),\n",
    "                kt.W.VBox([\n",
    "                    markdown(\"### Business\"),\n",
    "                    v[\"cash\"],\n",
    "                    v[\"clips\"],\n",
    "                ]),\n",
    "                kt.W.VBox([\n",
    "                    markdown(\"### Manufacturing\"),\n",
    "                    v[\"wire\"],\n",
    "                    v[\"btn_buy_wire\"],\n",
    "                ]),\n",
    "            ])\n",
    "        ]\n",
    "\n",
    "def init(fn):\n",
    "    InterdimensionalBinderclips._init_props[fn.__name__] = fn\n",
    "    return fn"
   ]
  },
  {
   "cell_type": "code",
   "execution_count": 106,
   "metadata": {},
   "outputs": [],
   "source": [
    "@init\n",
    "def clips_history(p, v):\n",
    "    history = kt.W.IntText(0, description=\"Binder Clips\", disabled=True)\n",
    "    return history, history"
   ]
  },
  {
   "cell_type": "code",
   "execution_count": 107,
   "metadata": {},
   "outputs": [],
   "source": [
    "@init\n",
    "def clips(p, v):\n",
    "    clips = kt.W.IntText(0, description=\"Unsold Inventory\", disabled=True)\n",
    "    \n",
    "    return clips, clips"
   ]
  },
  {
   "cell_type": "code",
   "execution_count": 108,
   "metadata": {},
   "outputs": [],
   "source": [
    "@init\n",
    "def cash(p, v):\n",
    "    cash = kt.W.IntText(1e2, description=\"Cash\", disabled=True)\n",
    "    return cash, cash"
   ]
  },
  {
   "cell_type": "code",
   "execution_count": 109,
   "metadata": {},
   "outputs": [],
   "source": [
    "@init\n",
    "def wire(p, v):\n",
    "    wire = kt.W.IntText(1e3, description=\"Wire (in)\", disabled=True)\n",
    "    return wire, wire"
   ]
  },
  {
   "cell_type": "code",
   "execution_count": 116,
   "metadata": {},
   "outputs": [],
   "source": [
    "@init\n",
    "def btn_make_clip(p, v):\n",
    "    btn = kt.W.Button(description=\"Make Binderclip\")\n",
    "\n",
    "    @btn.on_click\n",
    "    def _make_clip(_):\n",
    "        if p[\"wire\"].value:\n",
    "            p[\"wire\"].value -= 1\n",
    "            p[\"clips_history\"].value += 1\n",
    "            p[\"clips\"].value += 1\n",
    "    \n",
    "    return None, btn"
   ]
  },
  {
   "cell_type": "code",
   "execution_count": 117,
   "metadata": {},
   "outputs": [],
   "source": [
    "@init\n",
    "def price_wire(p, v):\n",
    "    price = kt.W.IntText(10, description=\"Wire Price\", disabled=True)\n",
    "    return price, price"
   ]
  },
  {
   "cell_type": "code",
   "execution_count": 118,
   "metadata": {},
   "outputs": [],
   "source": [
    "@init\n",
    "def spool_size(p, v):\n",
    "    spool_size = kt.W.IntText(100, description=\"Spool Size\", disabled=True)\n",
    "    return spool_size, spool_size"
   ]
  },
  {
   "cell_type": "code",
   "execution_count": 119,
   "metadata": {},
   "outputs": [],
   "source": [
    "@init\n",
    "def btn_buy_wire(p, v):\n",
    "    btn = kt.W.Button(description=\"Buy Wire\")\n",
    "    price = p[\"price_wire\"]\n",
    "    cash = p[\"cash\"]\n",
    "    size = p[\"spool_size\"]\n",
    "    wire = p[\"wire\"]\n",
    "\n",
    "    @btn.on_click\n",
    "    def click(_):\n",
    "        if cash.value >= price.value:\n",
    "            cash.value -= price.value\n",
    "            wire.value += size.value\n",
    "    \n",
    "    return None, btn"
   ]
  },
  {
   "cell_type": "code",
   "execution_count": 120,
   "metadata": {},
   "outputs": [
    {
     "data": {
      "application/vnd.jupyter.widget-view+json": {
       "model_id": "a96b7d99b7dd4ae79dea21deb0567afc",
       "version_major": 2,
       "version_minor": 0
      },
      "text/html": [
       "<p>Failed to display Jupyter Widget of type <code>InterdimensionalBinderclips</code>.</p>\n",
       "<p>\n",
       "  If you're reading this message in the Jupyter Notebook or JupyterLab Notebook, it may mean\n",
       "  that the widgets JavaScript is still loading. If this message persists, it\n",
       "  likely means that the widgets JavaScript library is either not installed or\n",
       "  not enabled. See the <a href=\"https://ipywidgets.readthedocs.io/en/stable/user_install.html\">Jupyter\n",
       "  Widgets Documentation</a> for setup instructions.\n",
       "</p>\n",
       "<p>\n",
       "  If you're reading this message in another frontend (for example, a static\n",
       "  rendering on GitHub or <a href=\"https://nbviewer.jupyter.org/\">NBViewer</a>),\n",
       "  it may mean that your frontend doesn't currently support widgets.\n",
       "</p>\n"
      ],
      "text/plain": [
       "InterdimensionalBinderclips(children=(VBox(children=(VBox(children=(IntText(value=0, description='Binder Clips', disabled=True), Button(description='Make Binderclip', style=ButtonStyle()))), VBox(children=(HTML(value='<h3 id=\"Business\">Business<a class=\"anchor-link\" href=\"#Business\">&#182;</a></h3>'), IntText(value=100, description='Cash', disabled=True), IntText(value=0, description='Unsold Inventory', disabled=True))), VBox(children=(HTML(value='<h3 id=\"Manufacturing\">Manufacturing<a class=\"anchor-link\" href=\"#Manufacturing\">&#182;</a></h3>'), IntText(value=1000, description='Wire (in)', disabled=True), Button(description='Buy Wire', style=ButtonStyle()))))),))"
      ]
     },
     "metadata": {},
     "output_type": "display_data"
    }
   ],
   "source": [
    "InterdimensionalBinderclips().init()"
   ]
  },
  {
   "cell_type": "code",
   "execution_count": null,
   "metadata": {},
   "outputs": [],
   "source": []
  },
  {
   "cell_type": "code",
   "execution_count": null,
   "metadata": {},
   "outputs": [],
   "source": []
  }
 ],
 "metadata": {
  "kernelspec": {
   "display_name": "Python 3",
   "language": "python",
   "name": "python3"
  },
  "language_info": {
   "codemirror_mode": {
    "name": "ipython",
    "version": 3
   },
   "file_extension": ".py",
   "mimetype": "text/x-python",
   "name": "python",
   "nbconvert_exporter": "python",
   "pygments_lexer": "ipython3",
   "version": "3.6.4"
  }
 },
 "nbformat": 4,
 "nbformat_minor": 2
}
