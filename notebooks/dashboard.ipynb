{
 "cells": [
  {
   "cell_type": "code",
   "execution_count": 11,
   "metadata": {},
   "outputs": [],
   "source": [
    "import bqplot as bq, ktop as kt"
   ]
  },
  {
   "cell_type": "code",
   "execution_count": 12,
   "metadata": {},
   "outputs": [],
   "source": [
    "nb = kt.Notebook(file_name=\"bqplot\").load()"
   ]
  },
  {
   "cell_type": "code",
   "execution_count": 13,
   "metadata": {},
   "outputs": [],
   "source": [
    "nb.nbformat"
   ]
  },
  {
   "cell_type": "code",
   "execution_count": 14,
   "metadata": {},
   "outputs": [
    {
     "data": {
      "application/vnd.jupyter.widget-view+json": {
       "model_id": "81f7a024fb8a4e2bab71bdfbf94ba2a6",
       "version_major": 2,
       "version_minor": 0
      },
      "text/plain": [
       "DefaultNotebookView(children=(HBox(children=(VBox(children=(HBox(children=(Button(icon='trash', layout=Layout(…"
      ]
     },
     "metadata": {},
     "output_type": "display_data"
    }
   ],
   "source": [
    "nb.view()"
   ]
  },
  {
   "cell_type": "code",
   "execution_count": 15,
   "metadata": {},
   "outputs": [
    {
     "name": "stdout",
     "output_type": "stream",
     "text": [
      "MSG status\n",
      "MSG execute_input\n",
      "MSG stream\n",
      "MSG status\n",
      "MSG execute_reply\n",
      "MSG status\n",
      "MSG execute_input\n",
      "MSG comm_open\n",
      "AS_JSON\n",
      "{'_model_module': '@jupyter-widgets/base', '_model_module_version': '1.1.0', '_model_name': 'LayoutModel', '_view_count': None, '_view_module': '@jupyter-widgets/base', '_view_module_version': '1.1.0', '_view_name': 'LayoutView', 'align_content': None, 'align_items': None, 'align_self': None, 'border': None, 'bottom': None, 'display': None, 'flex': None, 'flex_flow': None, 'grid_area': None, 'grid_auto_columns': None, 'grid_auto_flow': None, 'grid_auto_rows': None, 'grid_column': None, 'grid_gap': None, 'grid_row': None, 'grid_template_areas': None, 'grid_template_columns': None, 'grid_template_rows': None, 'height': None, 'justify_content': None, 'left': None, 'margin': None, 'max_height': None, 'max_width': None, 'min_height': None, 'min_width': '125px', 'order': None, 'overflow': None, 'overflow_x': None, 'overflow_y': None, 'padding': None, 'right': None, 'top': None, 'visibility': None, 'width': None}\n",
      "OBJ @jupyter-widgets/base\n",
      "OBJ 1.1.0\n",
      "OBJ LayoutModel\n",
      "OBJ @jupyter-widgets/base\n",
      "OBJ 1.1.0\n",
      "OBJ LayoutView\n",
      "OBJ 125px\n",
      "SUBBED {'_model_module': '@jupyter-widgets/base', '_model_module_version': '1.1.0', '_model_name': 'LayoutModel', '_view_count': None, '_view_module': '@jupyter-widgets/base', '_view_module_version': '1.1.0', '_view_name': 'LayoutView', 'align_content': None, 'align_items': None, 'align_self': None, 'border': None, 'bottom': None, 'display': None, 'flex': None, 'flex_flow': None, 'grid_area': None, 'grid_auto_columns': None, 'grid_auto_flow': None, 'grid_auto_rows': None, 'grid_column': None, 'grid_gap': None, 'grid_row': None, 'grid_template_areas': None, 'grid_template_columns': None, 'grid_template_rows': None, 'height': None, 'justify_content': None, 'left': None, 'margin': None, 'max_height': None, 'max_width': None, 'min_height': None, 'min_width': '125px', 'order': None, 'overflow': None, 'overflow_x': None, 'overflow_y': None, 'padding': None, 'right': None, 'top': None, 'visibility': None, 'width': None}\n",
      "MSG comm_open\n",
      "AS_JSON\n",
      "{'_model_module': 'bqplot', '_model_module_version': '^0.4.0', '_model_name': 'LinearScaleModel', '_view_count': None, '_view_module': 'bqplot', '_view_module_version': '^0.4.0', '_view_name': 'LinearScale', 'allow_padding': False, 'max': 1.0, 'mid_range': 0.8, 'min': 0.0, 'min_range': 0.6, 'reverse': False, 'stabilized': False}\n",
      "OBJ bqplot\n",
      "OBJ ^0.4.0\n",
      "OBJ LinearScaleModel\n",
      "OBJ bqplot\n",
      "OBJ ^0.4.0\n",
      "OBJ LinearScale\n",
      "SUBBED {'_model_module': 'bqplot', '_model_module_version': '^0.4.0', '_model_name': 'LinearScaleModel', '_view_count': None, '_view_module': 'bqplot', '_view_module_version': '^0.4.0', '_view_name': 'LinearScale', 'allow_padding': False, 'max': 1.0, 'mid_range': 0.8, 'min': 0.0, 'min_range': 0.6, 'reverse': False, 'stabilized': False}\n",
      "MSG comm_open\n",
      "AS_JSON\n",
      "{'_model_module': 'bqplot', '_model_module_version': '^0.4.0', '_model_name': 'LinearScaleModel', '_view_count': None, '_view_module': 'bqplot', '_view_module_version': '^0.4.0', '_view_name': 'LinearScale', 'allow_padding': False, 'max': 1.0, 'mid_range': 0.8, 'min': 0.0, 'min_range': 0.6, 'reverse': False, 'stabilized': False}\n",
      "OBJ bqplot\n",
      "OBJ ^0.4.0\n",
      "OBJ LinearScaleModel\n",
      "OBJ bqplot\n",
      "OBJ ^0.4.0\n",
      "OBJ LinearScale\n",
      "SUBBED {'_model_module': 'bqplot', '_model_module_version': '^0.4.0', '_model_name': 'LinearScaleModel', '_view_count': None, '_view_module': 'bqplot', '_view_module_version': '^0.4.0', '_view_name': 'LinearScale', 'allow_padding': False, 'max': 1.0, 'mid_range': 0.8, 'min': 0.0, 'min_range': 0.6, 'reverse': False, 'stabilized': False}\n",
      "MSG execute_reply\n",
      "MSG comm_open\n",
      "AS_JSON\n",
      "{'_dom_classes': [], '_model_module': 'bqplot', '_model_module_version': '^0.4.0', '_model_name': 'FigureModel', '_view_count': None, '_view_module': 'bqplot', '_view_module_version': '^0.4.0', '_view_name': 'Figure', 'animation_duration': 0, 'axes': [], 'background_style': {}, 'fig_margin': {'top': 60, 'bottom': 60, 'left': 60, 'right': 60}, 'interaction': None, 'layout': Layout(min_width='125px'), 'legend_location': 'top-right', 'legend_style': {}, 'legend_text': {}, 'marks': [], 'max_aspect_ratio': 100.0, 'min_aspect_ratio': 0.0, 'padding_x': 0.0, 'padding_y': 0.025, 'scale_x': 'IPY_MODEL_e77eb06ba51a42f095d8681d590d4b60', 'scale_y': 'IPY_MODEL_e85081bef71547bda54ef261d1eb4158', 'title': 'Line Chart', 'title_style': {}}\n",
      "OBJ bqplot\n",
      "OBJ ^0.4.0\n",
      "OBJ FigureModel\n",
      "OBJ bqplot\n",
      "OBJ ^0.4.0\n",
      "OBJ Figure\n",
      "OBJ IPY_MODEL_615565f555524321b587a958ddd4f30f\n",
      "OBJ_ID 615565f555524321b587a958ddd4f30f\n",
      "OBJ top-right\n",
      "OBJ IPY_MODEL_e77eb06ba51a42f095d8681d590d4b60\n",
      "OBJ_ID e77eb06ba51a42f095d8681d590d4b60\n",
      "MSG comm_open\n",
      "AS_JSON\n",
      "{'_model_module': 'bqplot', '_model_module_version': '^0.4.0', '_model_name': 'LinearScaleModel', '_view_count': None, '_view_module': 'bqplot', '_view_module_version': '^0.4.0', '_view_name': 'LinearScale', 'allow_padding': True, 'max': None, 'mid_range': 0.8, 'min': None, 'min_range': 0.6, 'reverse': False, 'stabilized': False}\n",
      "OBJ bqplot\n",
      "OBJ ^0.4.0\n",
      "OBJ LinearScaleModel\n",
      "OBJ bqplot\n",
      "OBJ ^0.4.0\n",
      "OBJ LinearScale\n",
      "SUBBED {'_model_module': 'bqplot', '_model_module_version': '^0.4.0', '_model_name': 'LinearScaleModel', '_view_count': None, '_view_module': 'bqplot', '_view_module_version': '^0.4.0', '_view_name': 'LinearScale', 'allow_padding': True, 'max': None, 'mid_range': 0.8, 'min': None, 'min_range': 0.6, 'reverse': False, 'stabilized': False}\n",
      "MSG comm_open\n",
      "AS_JSON\n",
      "{'_model_module': 'bqplot', '_model_module_version': '^0.4.0', '_model_name': 'LinearScaleModel', '_view_count': None, '_view_module': 'bqplot', '_view_module_version': '^0.4.0', '_view_name': 'LinearScale', 'allow_padding': True, 'max': None, 'mid_range': 0.8, 'min': None, 'min_range': 0.6, 'reverse': False, 'stabilized': False}\n",
      "OBJ bqplot\n",
      "OBJ ^0.4.0\n",
      "OBJ LinearScaleModel\n",
      "OBJ bqplot\n",
      "OBJ ^0.4.0\n",
      "OBJ LinearScale\n",
      "SUBBED {'_model_module': 'bqplot', '_model_module_version': '^0.4.0', '_model_name': 'LinearScaleModel', '_view_count': None, '_view_module': 'bqplot', '_view_module_version': '^0.4.0', '_view_name': 'LinearScale', 'allow_padding': True, 'max': None, 'mid_range': 0.8, 'min': None, 'min_range': 0.6, 'reverse': False, 'stabilized': False}\n",
      "MSG comm_open\n",
      "AS_JSON\n",
      "{'_model_module': 'bqplot', '_model_module_version': '^0.4.0', '_model_name': 'LinesModel', '_view_count': None, '_view_module': 'bqplot', '_view_module_version': '^0.4.0', '_view_name': 'Lines', 'apply_clip': True, 'close_path': False, 'color': {'values': None, 'type': None}, 'colors': ['#1f77b4', '#ff7f0e', '#2ca02c', '#d62728', '#9467bd', '#8c564b', '#e377c2', '#7f7f7f', '#bcbd22', '#17becf'], 'curves_subset': [], 'display_legend': False, 'enable_hover': True, 'fill': 'none', 'fill_colors': [], 'fill_opacities': [], 'interactions': {'hover': 'tooltip'}, 'interpolation': 'linear', 'labels': [], 'labels_visibility': 'none', 'line_style': 'solid', 'marker': None, 'marker_size': 64, 'opacities': [], 'preserve_domain': {}, 'scales': {'x': 'IPY_MODEL_2cc7ae4726f344e485557af9fea18e55', 'y': 'IPY_MODEL_f2ca38237f0145c8b5016c959ee20a93'}, 'scales_metadata': {'x': {'orientation': 'horizontal', 'dimension': 'x'}, 'y': {'orientation': 'vertical', 'dimension': 'y'}, 'color': {'dimension': 'color'}}, 'selected': [], 'selected_style': {}, 'stroke_width': 2.0, 'tooltip': None, 'tooltip_location': 'mouse', 'tooltip_style': {'opacity': 0.9}, 'unselected_style': {}, 'visible': True, 'x': {'values': [0.0, 0.05025125628140704, 0.10050251256281408, 0.15075376884422112, 0.20100502512562815, 0.2512562814070352, 0.30150753768844224, 0.35175879396984927, 0.4020100502512563, 0.45226130653266333, 0.5025125628140704, 0.5527638190954774, 0.6030150753768845, 0.6532663316582915, 0.7035175879396985, 0.7537688442211056, 0.8040201005025126, 0.8542713567839196, 0.9045226130653267, 0.9547738693467337, 1.0050251256281408, 1.0552763819095479, 1.105527638190955, 1.155778894472362, 1.206030150753769, 1.256281407035176, 1.306532663316583, 1.35678391959799, 1.407035175879397, 1.4572864321608041, 1.5075376884422111, 1.5577889447236182, 1.6080402010050252, 1.6582914572864322, 1.7085427135678393, 1.7587939698492463, 1.8090452261306533, 1.8592964824120604, 1.9095477386934674, 1.9597989949748744, 2.0100502512562817, 2.0603015075376887, 2.1105527638190957, 2.1608040201005028, 2.21105527638191, 2.261306532663317, 2.311557788944724, 2.361809045226131, 2.412060301507538, 2.462311557788945, 2.512562814070352, 2.562814070351759, 2.613065326633166, 2.663316582914573, 2.71356783919598, 2.763819095477387, 2.814070351758794, 2.864321608040201, 2.9145728643216082, 2.9648241206030153, 3.0150753768844223, 3.0653266331658293, 3.1155778894472363, 3.1658291457286434, 3.2160804020100504, 3.2663316582914574, 3.3165829145728645, 3.3668341708542715, 3.4170854271356785, 3.4673366834170856, 3.5175879396984926, 3.5678391959798996, 3.6180904522613067, 3.6683417085427137, 3.7185929648241207, 3.7688442211055277, 3.819095477386935, 3.869346733668342, 3.919597989949749, 3.969849246231156, 4.020100502512563, 4.07035175879397, 4.120603015075377, 4.170854271356784, 4.2211055276381915, 4.2713567839195985, 4.3216080402010055, 4.371859296482413, 4.42211055276382, 4.472361809045227, 4.522613065326634, 4.572864321608041, 4.623115577889448, 4.673366834170855, 4.723618090452262, 4.773869346733669, 4.824120603015076, 4.874371859296483, 4.92462311557789, 4.974874371859297, 5.025125628140704, 5.075376884422111, 5.125628140703518, 5.175879396984925, 5.226130653266332, 5.276381909547739, 5.326633165829146, 5.376884422110553, 5.42713567839196, 5.477386934673367, 5.527638190954774, 5.577889447236181, 5.628140703517588, 5.678391959798995, 5.728643216080402, 5.778894472361809, 5.8291457286432165, 5.8793969849246235, 5.9296482412060305, 5.9798994974874375, 6.030150753768845, 6.080402010050252, 6.130653266331659, 6.180904522613066, 6.231155778894473, 6.28140703517588, 6.331658291457287, 6.381909547738694, 6.432160804020101, 6.482412060301508, 6.532663316582915, 6.582914572864322, 6.633165829145729, 6.683417085427136, 6.733668341708543, 6.78391959798995, 6.834170854271357, 6.884422110552764, 6.934673366834171, 6.984924623115578, 7.035175879396985, 7.085427135678392, 7.135678391959799, 7.185929648241206, 7.236180904522613, 7.28643216080402, 7.336683417085427, 7.386934673366834, 7.437185929648241, 7.4874371859296485, 7.5376884422110555, 7.5879396984924625, 7.63819095477387, 7.688442211055277, 7.738693467336684, 7.788944723618091, 7.839195979899498, 7.889447236180905, 7.939698492462312, 7.989949748743719, 8.040201005025127, 8.090452261306533, 8.14070351758794, 8.190954773869347, 8.241206030150755, 8.291457286432161, 8.341708542713569, 8.391959798994975, 8.442211055276383, 8.492462311557789, 8.542713567839197, 8.592964824120603, 8.643216080402011, 8.693467336683417, 8.743718592964825, 8.793969849246231, 8.84422110552764, 8.894472361809045, 8.944723618090453, 8.99497487437186, 9.045226130653267, 9.095477386934673, 9.145728643216081, 9.195979899497488, 9.246231155778895, 9.296482412060302, 9.34673366834171, 9.396984924623116, 9.447236180904524, 9.49748743718593, 9.547738693467338, 9.597989949748744, 9.648241206030152, 9.698492462311558, 9.748743718592966, 9.798994974874372, 9.84924623115578, 9.899497487437186, 9.949748743718594, 10.0], 'type': 'float'}, 'y': {'values': [1.764052345967664, 2.1642095543348874, 3.1429475384406267, 5.3838407376420845, 7.251398727792052, 6.274120847915642, 7.224209265441231, 7.072852057143533, 6.969633205349975, 7.380231707288347, 7.524275278449225, 8.9785487854122, 9.739586510559192, 9.86126152705202, 10.305124759797446, 10.638799087171712, 12.132878160329318, 11.927719896563516, 12.240787598214418, 11.386691858912693, 8.833702043078613, 9.487320638518973, 10.35175683737848, 9.609591816972037, 11.879346440959644, 10.424980766360878, 10.470739283662324, 10.28355543363649, 11.816334647994948, 13.285693417895233, 13.44064084359215, 13.818803363194323, 12.93101761556421, 10.950221147340283, 10.60230899801413, 10.758657967118111, 11.988948647845833, 13.191328496630245, 12.804001679222292, 12.501698928646956, 11.453145963579864, 10.033128026400888, 8.326857835775876, 10.277633231007666, 9.767981049256013, 9.329906747644827, 8.0771113875949, 8.85460174342681, 7.240703895868859, 7.02796361565489, 6.132497054461215, 6.519399552320477, 6.008594414751604, 4.827962230629192, 4.799780002290537, 5.228111872820954, 5.294629095204122, 5.597100992943904, 4.962778899262941, 4.600037733275802, 3.927577285499851, 3.56802412395931, 2.7548778419148556, 1.0285952395831788, 1.2060213818369316, 0.8042404456286698, -0.8259579013373748, -0.3631756458116006, -1.2704740101948429, -1.218528614398704, -0.4894380522211671, -0.36045514146375646, 0.7789455430795442, -0.4558802772741084, -0.0535386360965594, -0.7383487270368726, -1.6091458762187543, -2.1879955409831697, -2.4995480731105424, -2.443382730880797, -3.6085325716641536, -2.7077060847099665, -2.242043644979507, -3.7782873312567307, -2.290035137461131, -0.3941459614305478, 0.7846336097291029, 0.604708773916752, -0.4660438475937905, 0.5884078793373462, 0.18523093236416655, 1.407676002746594, 1.6159509808234542, 2.5925900173071668, 2.9489564144815685, 3.6555295826735166, 3.666029603394337, 5.4519000973001726, 5.578812190003792, 5.980801553448494, 7.863952250504748, 6.516193189362301, 5.2457081908765675, 6.2151048990345785, 5.041981493920419, 6.985602679569712, 6.571983698809964, 5.8245288873692065, 7.747470913849591, 9.227985705284016, 11.095544665710586, 12.001589323985971, 11.14036363893127, 13.050428592030304, 12.782425221078924, 13.58488161687532, 14.532133584649069, 14.377123491558235, 14.991202861904316, 15.913409533470842, 16.289835064626473, 15.190434274042278, 15.488672448248334, 16.815058344935363, 16.120490485203998, 15.970855944876327, 15.53570239315469, 17.384966121634033, 18.057260878646467, 18.46472271488758, 17.694806640442263, 18.23405583173408, 17.5597231710767, 17.59155372935105, 16.955707650972172, 17.63214094591867, 18.208731762533613, 18.000433006955618, 18.396439719617263, 17.303378210886756, 15.812120618181151, 16.251512319445688, 16.418185814818216, 17.053217251710322, 19.436362026574265, 20.38084151356468, 19.46801928812052, 20.585035576216374, 19.269128165704853, 18.807543560890142, 18.739301955565512, 20.452644677214877, 19.70788985516644, 18.881451316507423, 18.78299879208199, 18.119520505719883, 19.246156427826392, 18.16622491946297, 17.018756267051867, 16.580936222307432, 16.08290377161513, 18.012435825432114, 18.961856632357875, 19.049407873743068, 17.8239723549129, 18.66833533131445, 17.668119983924885, 16.123348887147273, 17.311378679499576, 17.628321291424427, 18.549180115205246, 18.867907768148267, 19.724738380050958, 19.07371278675081, 18.039469944966346, 18.721064463247973, 17.917654799074132, 17.22810502132393, 16.772572517806587, 16.790051676831645, 16.436057765578163, 15.061106472160144, 14.417488069327254, 12.194084917102828, 12.819316368130014, 11.217258712523266, 10.112875373094816, 10.165040452355791, 9.425477455964478, 10.968492051371214, 9.675635141647765, 9.942686010996947, 9.903403192769451, 8.735309695028253, 9.258586355560006, 9.087040024337757, 9.858830575551425, 10.682334729515157, 12.845570678795847, 14.18209862823224], 'type': 'float'}}\n",
      "OBJ bqplot\n",
      "OBJ ^0.4.0\n",
      "OBJ LinesModel\n",
      "OBJ bqplot\n",
      "OBJ ^0.4.0\n",
      "OBJ Lines\n",
      "OBJ #1f77b4\n",
      "OBJ #ff7f0e\n",
      "OBJ #2ca02c\n",
      "OBJ #d62728\n",
      "OBJ #9467bd\n",
      "OBJ #8c564b\n",
      "OBJ #e377c2\n",
      "OBJ #7f7f7f\n",
      "OBJ #bcbd22\n",
      "OBJ #17becf\n",
      "OBJ none\n",
      "OBJ tooltip\n",
      "OBJ linear\n",
      "OBJ none\n",
      "OBJ solid\n",
      "OBJ IPY_MODEL_2cc7ae4726f344e485557af9fea18e55\n",
      "OBJ_ID 2cc7ae4726f344e485557af9fea18e55\n",
      "MSG comm_msg\n",
      "MSG comm_open\n",
      "AS_JSON\n",
      "{'_model_module': 'bqplot', '_model_module_version': '^0.4.0', '_model_name': 'AxisModel', '_view_count': None, '_view_module': 'bqplot', '_view_module_version': '^0.4.0', '_view_name': 'Axis', 'color': None, 'grid_color': None, 'grid_lines': 'solid', 'label': '', 'label_color': None, 'label_location': 'middle', 'label_offset': None, 'num_ticks': None, 'offset': {}, 'orientation': 'horizontal', 'scale': 'IPY_MODEL_2cc7ae4726f344e485557af9fea18e55', 'side': None, 'tick_format': None, 'tick_rotate': 0, 'tick_style': {}, 'tick_values': {'values': None, 'type': None}, 'visible': True}\n",
      "OBJ bqplot\n",
      "OBJ ^0.4.0\n",
      "OBJ AxisModel\n",
      "OBJ bqplot\n",
      "OBJ ^0.4.0\n",
      "OBJ Axis\n",
      "OBJ solid\n",
      "OBJ \n",
      "OBJ middle\n",
      "OBJ horizontal\n",
      "OBJ IPY_MODEL_2cc7ae4726f344e485557af9fea18e55\n",
      "OBJ_ID 2cc7ae4726f344e485557af9fea18e55\n",
      "MSG comm_open\n",
      "AS_JSON\n",
      "{'_model_module': 'bqplot', '_model_module_version': '^0.4.0', '_model_name': 'AxisModel', '_view_count': None, '_view_module': 'bqplot', '_view_module_version': '^0.4.0', '_view_name': 'Axis', 'color': None, 'grid_color': None, 'grid_lines': 'solid', 'label': '', 'label_color': None, 'label_location': 'middle', 'label_offset': None, 'num_ticks': None, 'offset': {}, 'orientation': 'vertical', 'scale': 'IPY_MODEL_f2ca38237f0145c8b5016c959ee20a93', 'side': None, 'tick_format': None, 'tick_rotate': 0, 'tick_style': {}, 'tick_values': {'values': None, 'type': None}, 'visible': True}\n",
      "OBJ bqplot\n",
      "OBJ ^0.4.0\n",
      "OBJ AxisModel\n",
      "OBJ bqplot\n",
      "OBJ ^0.4.0\n",
      "OBJ Axis\n",
      "OBJ solid\n",
      "OBJ \n",
      "OBJ middle\n",
      "OBJ vertical\n",
      "OBJ IPY_MODEL_f2ca38237f0145c8b5016c959ee20a93\n",
      "OBJ_ID f2ca38237f0145c8b5016c959ee20a93\n",
      "MSG comm_msg\n",
      "MSG status\n",
      "MSG status\n",
      "MSG execute_reply\n",
      "MSG execute_input\n",
      "MSG comm_open\n",
      "AS_JSON\n",
      "{'_model_module': '@jupyter-widgets/base', '_model_module_version': '1.1.0', '_model_name': 'LayoutModel', '_view_count': None, '_view_module': '@jupyter-widgets/base', '_view_module_version': '1.1.0', '_view_name': 'LayoutView', 'align_content': None, 'align_items': None, 'align_self': None, 'border': None, 'bottom': None, 'display': None, 'flex': None, 'flex_flow': None, 'grid_area': None, 'grid_auto_columns': None, 'grid_auto_flow': None, 'grid_auto_rows': None, 'grid_column': None, 'grid_gap': None, 'grid_row': None, 'grid_template_areas': None, 'grid_template_columns': None, 'grid_template_rows': None, 'height': None, 'justify_content': None, 'left': None, 'margin': None, 'max_height': None, 'max_width': None, 'min_height': None, 'min_width': None, 'order': None, 'overflow': None, 'overflow_x': None, 'overflow_y': None, 'padding': None, 'right': None, 'top': None, 'visibility': None, 'width': None}\n",
      "OBJ @jupyter-widgets/base\n",
      "OBJ 1.1.0\n",
      "OBJ LayoutModel\n",
      "OBJ @jupyter-widgets/base\n",
      "OBJ 1.1.0\n",
      "OBJ LayoutView\n",
      "SUBBED {'_model_module': '@jupyter-widgets/base', '_model_module_version': '1.1.0', '_model_name': 'LayoutModel', '_view_count': None, '_view_module': '@jupyter-widgets/base', '_view_module_version': '1.1.0', '_view_name': 'LayoutView', 'align_content': None, 'align_items': None, 'align_self': None, 'border': None, 'bottom': None, 'display': None, 'flex': None, 'flex_flow': None, 'grid_area': None, 'grid_auto_columns': None, 'grid_auto_flow': None, 'grid_auto_rows': None, 'grid_column': None, 'grid_gap': None, 'grid_row': None, 'grid_template_areas': None, 'grid_template_columns': None, 'grid_template_rows': None, 'height': None, 'justify_content': None, 'left': None, 'margin': None, 'max_height': None, 'max_width': None, 'min_height': None, 'min_width': None, 'order': None, 'overflow': None, 'overflow_x': None, 'overflow_y': None, 'padding': None, 'right': None, 'top': None, 'visibility': None, 'width': None}\n",
      "MSG comm_open\n",
      "AS_JSON\n",
      "{'_dom_classes': [], '_model_module': 'bqplot', '_model_module_version': '^0.4.0', '_model_name': 'ToolbarModel', '_panning': False, '_panzoom': None, '_view_count': None, '_view_module': 'bqplot', '_view_module_version': '^0.4.0', '_view_name': 'Toolbar', 'figure': 'IPY_MODEL_9ef13db1d3be46ffac5be59dc3a133cd', 'layout': Layout()}\n",
      "OBJ bqplot\n",
      "OBJ ^0.4.0\n",
      "OBJ ToolbarModel\n",
      "OBJ bqplot\n",
      "OBJ ^0.4.0\n",
      "OBJ Toolbar\n",
      "OBJ IPY_MODEL_9ef13db1d3be46ffac5be59dc3a133cd\n",
      "OBJ_ID 9ef13db1d3be46ffac5be59dc3a133cd\n",
      "MSG execute_reply\n",
      "MSG comm_open\n",
      "AS_JSON\n",
      "{'_model_module': '@jupyter-widgets/base', '_model_module_version': '1.1.0', '_model_name': 'LayoutModel', '_view_count': None, '_view_module': '@jupyter-widgets/base', '_view_module_version': '1.1.0', '_view_name': 'LayoutView', 'align_content': None, 'align_items': None, 'align_self': None, 'border': None, 'bottom': None, 'display': None, 'flex': None, 'flex_flow': None, 'grid_area': None, 'grid_auto_columns': None, 'grid_auto_flow': None, 'grid_auto_rows': None, 'grid_column': None, 'grid_gap': None, 'grid_row': None, 'grid_template_areas': None, 'grid_template_columns': None, 'grid_template_rows': None, 'height': None, 'justify_content': None, 'left': None, 'margin': None, 'max_height': None, 'max_width': None, 'min_height': None, 'min_width': None, 'order': None, 'overflow': None, 'overflow_x': None, 'overflow_y': None, 'padding': None, 'right': None, 'top': None, 'visibility': None, 'width': None}\n",
      "OBJ @jupyter-widgets/base\n",
      "OBJ 1.1.0\n",
      "OBJ LayoutModel\n",
      "OBJ @jupyter-widgets/base\n",
      "OBJ 1.1.0\n",
      "OBJ LayoutView\n",
      "SUBBED {'_model_module': '@jupyter-widgets/base', '_model_module_version': '1.1.0', '_model_name': 'LayoutModel', '_view_count': None, '_view_module': '@jupyter-widgets/base', '_view_module_version': '1.1.0', '_view_name': 'LayoutView', 'align_content': None, 'align_items': None, 'align_self': None, 'border': None, 'bottom': None, 'display': None, 'flex': None, 'flex_flow': None, 'grid_area': None, 'grid_auto_columns': None, 'grid_auto_flow': None, 'grid_auto_rows': None, 'grid_column': None, 'grid_gap': None, 'grid_row': None, 'grid_template_areas': None, 'grid_template_columns': None, 'grid_template_rows': None, 'height': None, 'justify_content': None, 'left': None, 'margin': None, 'max_height': None, 'max_width': None, 'min_height': None, 'min_width': None, 'order': None, 'overflow': None, 'overflow_x': None, 'overflow_y': None, 'padding': None, 'right': None, 'top': None, 'visibility': None, 'width': None}\n",
      "MSG comm_open\n",
      "AS_JSON\n",
      "{'_dom_classes': [], '_model_module': '@jupyter-widgets/controls', '_model_module_version': '1.3.0', '_model_name': 'VBoxModel', '_view_count': None, '_view_module': '@jupyter-widgets/controls', '_view_module_version': '1.3.0', '_view_name': 'VBoxView', 'box_style': '', 'children': ['IPY_MODEL_9ef13db1d3be46ffac5be59dc3a133cd', 'IPY_MODEL_152a0ffd50784fcc8338b443a8c683d9'], 'layout': Layout()}\n",
      "OBJ @jupyter-widgets/controls\n",
      "OBJ 1.3.0\n",
      "OBJ VBoxModel\n",
      "OBJ @jupyter-widgets/controls\n",
      "OBJ 1.3.0\n",
      "OBJ VBoxView\n",
      "OBJ \n",
      "OBJ IPY_MODEL_9ef13db1d3be46ffac5be59dc3a133cd\n",
      "OBJ_ID 9ef13db1d3be46ffac5be59dc3a133cd\n",
      "MSG display_data\n",
      "CONTENT {'data': {'text/plain': \"VBox(children=(Figure(axes=[Axis(scale=LinearScale()), Axis(orientation='vertical', scale=LinearScale())], fig…\", 'application/vnd.jupyter.widget-view+json': {'version_major': 2, 'version_minor': 0, 'model_id': '20f0635c9b1e43b9af4f644c9bd83b83'}}, 'metadata': {}, 'transient': {}}\n",
      "MSG status\n",
      "MSG status\n",
      "MSG execute_input\n",
      "MSG status\n"
     ]
    }
   ],
   "source": [
    "k1 = list(nb.run(shutdown=False))[0]"
   ]
  },
  {
   "cell_type": "code",
   "execution_count": null,
   "metadata": {},
   "outputs": [],
   "source": [
    "k1.widgets[2]"
   ]
  },
  {
   "cell_type": "code",
   "execution_count": null,
   "metadata": {},
   "outputs": [],
   "source": [
    "k1.widgets[3]"
   ]
  },
  {
   "cell_type": "code",
   "execution_count": null,
   "metadata": {},
   "outputs": [],
   "source": [
    "k1.widgets[3]._model_name"
   ]
  },
  {
   "cell_type": "code",
   "execution_count": null,
   "metadata": {},
   "outputs": [],
   "source": [
    "k1.nbformat.cells"
   ]
  },
  {
   "cell_type": "code",
   "execution_count": null,
   "metadata": {},
   "outputs": [],
   "source": []
  }
 ],
 "metadata": {
  "kernelspec": {
   "display_name": "Python 3",
   "language": "python",
   "name": "python3"
  },
  "language_info": {
   "codemirror_mode": {
    "name": "ipython",
    "version": 3
   },
   "file_extension": ".py",
   "mimetype": "text/x-python",
   "name": "python",
   "nbconvert_exporter": "python",
   "pygments_lexer": "ipython3",
   "version": "3.6.6"
  }
 },
 "nbformat": 4,
 "nbformat_minor": 2
}
