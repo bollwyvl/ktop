{
 "cells": [
  {
   "cell_type": "code",
   "execution_count": 24,
   "metadata": {},
   "outputs": [],
   "source": [
    "import ktop as kt\n",
    "import ktop.widget_nbformat as NB\n",
    "from nbformat import read\n",
    "import json\n",
    "import difflib"
   ]
  },
  {
   "cell_type": "code",
   "execution_count": 16,
   "metadata": {},
   "outputs": [],
   "source": [
    "nbf = kt.NBFormat()"
   ]
  },
  {
   "cell_type": "code",
   "execution_count": 17,
   "metadata": {},
   "outputs": [],
   "source": [
    "node = read(\"bqplot.ipynb\", 4)"
   ]
  },
  {
   "cell_type": "code",
   "execution_count": 18,
   "metadata": {},
   "outputs": [],
   "source": [
    "nbf.node = node"
   ]
  },
  {
   "cell_type": "code",
   "execution_count": 19,
   "metadata": {},
   "outputs": [],
   "source": [
    "doctester = kt.NBFormat()"
   ]
  },
  {
   "cell_type": "code",
   "execution_count": 26,
   "metadata": {},
   "outputs": [
    {
     "data": {
      "text/plain": [
       "<traitlets.traitlets.directional_link at 0x7fe1154ee898>"
      ]
     },
     "execution_count": 26,
     "metadata": {},
     "output_type": "execute_result"
    }
   ],
   "source": [
    "kt.T.dlink(\n",
    "    (nbf, \"cells\"), \n",
    "    (doctester, \"cells\"),\n",
    "    lambda cells: cells + (NB.Code(source=\"import doctest\"),));"
   ]
  },
  {
   "cell_type": "code",
   "execution_count": 30,
   "metadata": {},
   "outputs": [
    {
     "data": {
      "text/plain": [
       "(Code(cell_type='code', execution_count=2, source='import bqplot as bq\\nimport ipywidgets as W\\nimport traitlets as T'),\n",
       " Code(cell_type='code', execution_count=3, outputs=(DisplayData(data={'application/vnd.jupyter.widget-view+json': {'model_id': 'c370a0f929de4ac39622bf79b2ac3b59', 'version_major': 2, 'version_minor': 0}, 'text/html': '<p>Failed to display Jupyter Widget of type <code>SelectMultiple</code>.</p>\\n<p>\\n  If you\\'re reading this message in the Jupyter Notebook or JupyterLab Notebook, it may mean\\n  that the widgets JavaScript is still loading. If this message persists, it\\n  likely means that the widgets JavaScript library is either not installed or\\n  not enabled. See the <a href=\"https://ipywidgets.readthedocs.io/en/stable/user_install.html\">Jupyter\\n  Widgets Documentation</a> for setup instructions.\\n</p>\\n<p>\\n  If you\\'re reading this message in another frontend (for example, a static\\n  rendering on GitHub or <a href=\"https://nbviewer.jupyter.org/\">NBViewer</a>),\\n  it may mean that your frontend doesn\\'t currently support widgets.\\n</p>\\n', 'text/plain': \"SelectMultiple(description='options', options=('Apples', 'Oranges', 'Pears'), value=())\"}, output_type='display_data'),), source='options = W.SelectMultiple(\\n    options=[\"Apples\", \"Oranges\", \"Pears\"],\\n    description=\"options\"\\n)\\noptions'),\n",
       " Code(cell_type='code', execution_count=35, source='scales = dict(\\n    x=bq.LinearScale(),\\n    y=bq.LinearScale()\\n)'),\n",
       " Code(cell_type='code', execution_count=36, source='axes = dict(\\n    x=bq.Axis(scale=scales[\"x\"], label=\\'X\\'),\\n    y=bq.Axis(scale=scales[\"y\"], orientation=\\'vertical\\', tick_format=\\'0.2f\\', label=\\'Y\\')\\n)'),\n",
       " Code(cell_type='code', execution_count=37, outputs=(Stream(name='stderr', output_type='stream', text='/home/weg/miniconda3/envs/ktop-dev/lib/python3.6/site-packages/bqplot/traits.py:137: FutureWarning: Conversion of the second argument of issubdtype from `float` to `np.floating` is deprecated. In future, it will be treated as `np.float64 == np.dtype(float).type`.\\n  if np.issubdtype(a.dtype, np.float):\\n'),), source='text = bq.Label(\\n    x=[0] * 10,\\n    y=range(10),\\n    colors=[\"black\"] * 10,\\n    text=list(map(str, range(10))),\\n    scales=scales,\\n    font_family=[\"monospace\"] * 10\\n)\\nT.dlink((options, \"options\"), (text, \"text\"));'),\n",
       " Code(cell_type='code', execution_count=38, source='view = bq.Figure(marks=[text])'),\n",
       " Code(cell_type='code', execution_count=39, outputs=(DisplayData(data={'application/vnd.jupyter.widget-view+json': {'model_id': '87359016b278483284e4872cdc2a096b', 'version_major': 2, 'version_minor': 0}, 'text/html': '<p>Failed to display Jupyter Widget of type <code>Figure</code>.</p>\\n<p>\\n  If you\\'re reading this message in the Jupyter Notebook or JupyterLab Notebook, it may mean\\n  that the widgets JavaScript is still loading. If this message persists, it\\n  likely means that the widgets JavaScript library is either not installed or\\n  not enabled. See the <a href=\"https://ipywidgets.readthedocs.io/en/stable/user_install.html\">Jupyter\\n  Widgets Documentation</a> for setup instructions.\\n</p>\\n<p>\\n  If you\\'re reading this message in another frontend (for example, a static\\n  rendering on GitHub or <a href=\"https://nbviewer.jupyter.org/\">NBViewer</a>),\\n  it may mean that your frontend doesn\\'t currently support widgets.\\n</p>\\n', 'text/plain': \"Figure(fig_margin={'top': 60, 'bottom': 60, 'left': 60, 'right': 60}, layout=Layout(min_width='125px'), marks=[Label(colors=['black', 'black', 'black', 'black', 'black', 'black', 'black', 'black', 'black', 'black'], interactions={'hover': 'tooltip'}, scales={'x': LinearScale(), 'y': LinearScale()}, scales_metadata={'x': {'orientation': 'horizontal', 'dimension': 'x'}, 'y': {'orientation': 'vertical', 'dimension': 'y'}, 'color': {'dimension': 'color'}, 'size': {'dimension': 'size'}, 'opacity': {'dimension': 'opacity'}, 'rotation': {'dimension': 'rotation'}}, text=array(['Apples', 'Oranges', 'Pears'], dtype='<U7'), tooltip_style={'opacity': 0.9}, x=array([0, 0, 0, 0, 0, 0, 0, 0, 0, 0]), y=array([0, 1, 2, 3, 4, 5, 6, 7, 8, 9]))], scale_x=LinearScale(allow_padding=False, max=1.0, min=0.0), scale_y=LinearScale(allow_padding=False, max=1.0, min=0.0))\"}, output_type='display_data'),), source='view'),\n",
       " Code(cell_type='code', execution_count=40, source='view.padding_x = 0\\nview.padding_y = 0'),\n",
       " Code(cell_type='code', execution_count=41, source='view.layout.padding = \"0\"\\nview.layout.margin = \"0\"\\nview.layout.flex = \"1\"\\nview.layout.width = \"100%\"\\nview.layout.height = \"70vh\"\\nview.fig_margin = {it: \"0\" for it in [\"bottom\", \"left\", \"right\", \"top\"]}'),\n",
       " Code(source='import doctest'))"
      ]
     },
     "execution_count": 30,
     "metadata": {},
     "output_type": "execute_result"
    }
   ],
   "source": [
    "doctester.cells"
   ]
  },
  {
   "cell_type": "code",
   "execution_count": null,
   "metadata": {},
   "outputs": [],
   "source": []
  }
 ],
 "metadata": {
  "kernelspec": {
   "display_name": "Python 3",
   "language": "python",
   "name": "python3"
  },
  "language_info": {
   "codemirror_mode": {
    "name": "ipython",
    "version": 3
   },
   "file_extension": ".py",
   "mimetype": "text/x-python",
   "name": "python",
   "nbconvert_exporter": "python",
   "pygments_lexer": "ipython3",
   "version": "3.6.4"
  }
 },
 "nbformat": 4,
 "nbformat_minor": 2
}
