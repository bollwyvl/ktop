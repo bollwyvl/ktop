{
 "cells": [
  {
   "cell_type": "code",
   "execution_count": 1,
   "metadata": {},
   "outputs": [
    {
     "name": "stderr",
     "output_type": "stream",
     "text": [
      "/home/weg/Documents/projects/deathbeds/ktop/envs/full/lib/python3.6/importlib/_bootstrap.py:219: RuntimeWarning: numpy.dtype size changed, may indicate binary incompatibility. Expected 96, got 88\n",
      "  return f(*args, **kwds)\n"
     ]
    }
   ],
   "source": [
    "import ktop as kt\n",
    "import ktop.widget_nbformat as NB"
   ]
  },
  {
   "cell_type": "code",
   "execution_count": 2,
   "metadata": {},
   "outputs": [],
   "source": [
    "nb = kt.Notebook()"
   ]
  },
  {
   "cell_type": "code",
   "execution_count": 3,
   "metadata": {},
   "outputs": [
    {
     "data": {
      "application/vnd.jupyter.widget-view+json": {
       "model_id": "9d887c543f69497d8226ebfe77a38948",
       "version_major": 2,
       "version_minor": 0
      },
      "text/plain": [
       "DefaultNotebookView(children=(HBox(children=(VBox(children=(HBox(children=(Button(icon='trash', layout=Layout(…"
      ]
     },
     "metadata": {},
     "output_type": "display_data"
    }
   ],
   "source": [
    "nb.view()"
   ]
  },
  {
   "cell_type": "code",
   "execution_count": 4,
   "metadata": {},
   "outputs": [],
   "source": [
    "nb.nbformat.cells = (\n",
    "    NB.Code(source=\"import ipywidgets as W, traitlets as T\"),\n",
    "    NB.Code(source=\"x = W.FloatSlider(); x\"),\n",
    "    NB.Code(source=\"print(x.value)\"),\n",
    "    NB.Code(source=\"y = W.FloatSlider(); y\"),\n",
    "    NB.Code(source=\"T.dlink((x, 'value'), (y, 'value'))\")\n",
    ")"
   ]
  },
  {
   "cell_type": "code",
   "execution_count": 5,
   "metadata": {},
   "outputs": [
    {
     "name": "stdout",
     "output_type": "stream",
     "text": [
      "OUTPUTS ()\n",
      "views []\n",
      "OUTPUTS ()\n",
      "views []\n",
      "OUTPUTS ()\n",
      "views []\n",
      "OUTPUTS ()\n",
      "views []\n",
      "OUTPUTS ()\n",
      "views []\n",
      "OUTPUTS (DisplayData(data={'text/plain': 'FloatSlider(value=0.0)', 'application/vnd.jupyter.widget-view+json': {'version_major': 2, 'version_minor': 0, 'model_id': 'b2175b09fe7d42b5a8671865576ee2e3'}}, output_type='display_data'),)\n",
      "views [HBox(children=(Label(value='display_data'),))]\n",
      "OUTPUTS (DisplayData(data={'text/plain': 'FloatSlider(value=0.0)', 'application/vnd.jupyter.widget-view+json': {'version_major': 2, 'version_minor': 0, 'model_id': 'b2175b09fe7d42b5a8671865576ee2e3'}}, output_type='display_data'), Stream(name='stdout', output_type='stream', text='0.0\\n'))\n",
      "views [HBox(children=(Label(value='display_data'),)), HBox(children=(Label(value='stdout'), Label(value='0.0\\n')))]\n",
      "OUTPUTS (DisplayData(data={'text/plain': 'FloatSlider(value=0.0)', 'application/vnd.jupyter.widget-view+json': {'version_major': 2, 'version_minor': 0, 'model_id': 'b2175b09fe7d42b5a8671865576ee2e3'}}, output_type='display_data'), Stream(name='stdout', output_type='stream', text='0.0\\n'), DisplayData(data={'text/plain': 'FloatSlider(value=0.0)', 'application/vnd.jupyter.widget-view+json': {'version_major': 2, 'version_minor': 0, 'model_id': '84c2ba444f984f138c6213d721be2fc0'}}, output_type='display_data'))\n",
      "views [HBox(children=(Label(value='display_data'),)), HBox(children=(Label(value='stdout'), Label(value='0.0\\n'))), HBox(children=(Label(value='display_data'),))]\n",
      "OUTPUTS (DisplayData(data={'text/plain': 'FloatSlider(value=0.0)', 'application/vnd.jupyter.widget-view+json': {'version_major': 2, 'version_minor': 0, 'model_id': 'b2175b09fe7d42b5a8671865576ee2e3'}}, output_type='display_data'), Stream(name='stdout', output_type='stream', text='0.0\\n'), DisplayData(data={'text/plain': 'FloatSlider(value=0.0)', 'application/vnd.jupyter.widget-view+json': {'version_major': 2, 'version_minor': 0, 'model_id': '84c2ba444f984f138c6213d721be2fc0'}}, output_type='display_data'), ExecuteResult(data={'text/plain': '<traitlets.traitlets.directional_link at 0x7f58fd634748>'}, execution_count=5, output_type='execute_result'))\n",
      "views [HBox(children=(Label(value='display_data'),)), HBox(children=(Label(value='stdout'), Label(value='0.0\\n'))), HBox(children=(Label(value='display_data'),)), HBox(children=(Label(value='execute_result'),))]\n"
     ]
    }
   ],
   "source": [
    "k1 = list(nb.run(shutdown=False))[0]"
   ]
  },
  {
   "cell_type": "code",
   "execution_count": 6,
   "metadata": {},
   "outputs": [
    {
     "data": {
      "text/plain": [
       "()"
      ]
     },
     "execution_count": 6,
     "metadata": {},
     "output_type": "execute_result"
    }
   ],
   "source": [
    "nb.nbformat.cells[0].outputs"
   ]
  },
  {
   "cell_type": "code",
   "execution_count": 12,
   "metadata": {},
   "outputs": [
    {
     "data": {
      "text/plain": [
       "(DisplayData(data={'text/plain': 'FloatSlider(value=0.0)', 'application/vnd.jupyter.widget-view+json': {'version_major': 2, 'version_minor': 0, 'model_id': '62e84cfc9758498b9f74aa539698c540'}}, output_type='display_data'),\n",
       " DisplayData(data={'text/plain': 'FloatSlider(value=0.0)', 'application/vnd.jupyter.widget-view+json': {'version_major': 2, 'version_minor': 0, 'model_id': '5d41928b463b4ec8854d907a6c428305'}}, output_type='display_data'))"
      ]
     },
     "execution_count": 12,
     "metadata": {},
     "output_type": "execute_result"
    }
   ],
   "source": [
    "k1.nbformat.cells[-1].outputs"
   ]
  },
  {
   "cell_type": "code",
   "execution_count": null,
   "metadata": {},
   "outputs": [],
   "source": []
  }
 ],
 "metadata": {
  "kernelspec": {
   "display_name": "Python 3",
   "language": "python",
   "name": "python3"
  },
  "language_info": {
   "codemirror_mode": {
    "name": "ipython",
    "version": 3
   },
   "file_extension": ".py",
   "mimetype": "text/x-python",
   "name": "python",
   "nbconvert_exporter": "python",
   "pygments_lexer": "ipython3",
   "version": "3.6.6"
  }
 },
 "nbformat": 4,
 "nbformat_minor": 2
}
