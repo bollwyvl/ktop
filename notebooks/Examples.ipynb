{
 "cells": [
  {
   "cell_type": "markdown",
   "metadata": {},
   "source": [
    "# A Notebook as a Widget"
   ]
  },
  {
   "cell_type": "code",
   "execution_count": 2,
   "metadata": {},
   "outputs": [],
   "source": [
    "from nbformat.v4 import new_code_cell\n",
    "from ipynotebookwidget import Notebook, W, T"
   ]
  },
  {
   "cell_type": "code",
   "execution_count": 3,
   "metadata": {},
   "outputs": [],
   "source": [
    "nb = Notebook(file_name=\"Untitled\")"
   ]
  },
  {
   "cell_type": "markdown",
   "metadata": {},
   "source": [
    "You can save or read a file."
   ]
  },
  {
   "cell_type": "code",
   "execution_count": 4,
   "metadata": {},
   "outputs": [],
   "source": [
    "nb.save()"
   ]
  },
  {
   "cell_type": "markdown",
   "metadata": {},
   "source": [
    "or look at its contents"
   ]
  },
  {
   "cell_type": "code",
   "execution_count": 5,
   "metadata": {},
   "outputs": [
    {
     "name": "stdout",
     "output_type": "stream",
     "text": [
      "{\n",
      " \"cells\": [],\n",
      " \"metadata\": {},\n",
      " \"nbformat\": 4,\n",
      " \"nbformat_minor\": 2\n",
      "}\n"
     ]
    }
   ],
   "source": [
    "print(nb.json)"
   ]
  },
  {
   "cell_type": "markdown",
   "metadata": {},
   "source": [
    "You set the cells, or any notebook content."
   ]
  },
  {
   "cell_type": "code",
   "execution_count": 6,
   "metadata": {},
   "outputs": [],
   "source": [
    "cells = [\n",
    "    \"\"\"from ipywidgets import FloatSlider\"\"\",\n",
    "    \"\"\"from traitlets import dlink\"\"\",\n",
    "    \"\"\"import math, time\"\"\",\n",
    "    \"\"\"time.sleep(1)\"\"\",\n",
    "    \"\"\"x, y, z = [FloatSlider(value=1, description=a) for a in \"xyz\"]\"\"\",\n",
    "    \"\"\"x\"\"\",\n",
    "    \"\"\"y\"\"\",\n",
    "    \"\"\"z\"\"\",\n",
    "    \"\"\"time.sleep(1)\"\"\",\n",
    "    \"\"\"dlink((x, \"value\"), (y, \"value\"), lambda x: x * 5)\"\"\",\n",
    "    \"\"\"dlink((y, \"value\"), (z, \"value\"), lambda y: y / 3)\"\"\",\n",
    "    \"\"\"time.sleep(1)\"\"\",\n",
    "    \"\"\"x.value = 4.2\"\"\"\n",
    "]"
   ]
  },
  {
   "cell_type": "code",
   "execution_count": 7,
   "metadata": {},
   "outputs": [
    {
     "data": {
      "text/html": [
       "<div>\n",
       "<style scoped>\n",
       "    .dataframe tbody tr th:only-of-type {\n",
       "        vertical-align: middle;\n",
       "    }\n",
       "\n",
       "    .dataframe tbody tr th {\n",
       "        vertical-align: top;\n",
       "    }\n",
       "\n",
       "    .dataframe thead th {\n",
       "        text-align: right;\n",
       "    }\n",
       "</style>\n",
       "<table border=\"1\" class=\"dataframe\">\n",
       "  <thead>\n",
       "    <tr style=\"text-align: right;\">\n",
       "      <th></th>\n",
       "      <th>cell_type</th>\n",
       "      <th>execution_count</th>\n",
       "      <th>outputs</th>\n",
       "      <th>source</th>\n",
       "    </tr>\n",
       "  </thead>\n",
       "  <tbody>\n",
       "    <tr>\n",
       "      <th>0</th>\n",
       "      <td>code</td>\n",
       "      <td>None</td>\n",
       "      <td>[]</td>\n",
       "      <td>[from ipywidgets import FloatSlider]</td>\n",
       "    </tr>\n",
       "    <tr>\n",
       "      <th>1</th>\n",
       "      <td>code</td>\n",
       "      <td>None</td>\n",
       "      <td>[]</td>\n",
       "      <td>[from traitlets import dlink]</td>\n",
       "    </tr>\n",
       "    <tr>\n",
       "      <th>2</th>\n",
       "      <td>code</td>\n",
       "      <td>None</td>\n",
       "      <td>[]</td>\n",
       "      <td>[import math, time]</td>\n",
       "    </tr>\n",
       "    <tr>\n",
       "      <th>3</th>\n",
       "      <td>code</td>\n",
       "      <td>None</td>\n",
       "      <td>[]</td>\n",
       "      <td>[time.sleep(1)]</td>\n",
       "    </tr>\n",
       "    <tr>\n",
       "      <th>4</th>\n",
       "      <td>code</td>\n",
       "      <td>None</td>\n",
       "      <td>[]</td>\n",
       "      <td>[x, y, z = [FloatSlider(value=1, description=a...</td>\n",
       "    </tr>\n",
       "    <tr>\n",
       "      <th>5</th>\n",
       "      <td>code</td>\n",
       "      <td>None</td>\n",
       "      <td>[]</td>\n",
       "      <td>[x]</td>\n",
       "    </tr>\n",
       "    <tr>\n",
       "      <th>6</th>\n",
       "      <td>code</td>\n",
       "      <td>None</td>\n",
       "      <td>[]</td>\n",
       "      <td>[y]</td>\n",
       "    </tr>\n",
       "    <tr>\n",
       "      <th>7</th>\n",
       "      <td>code</td>\n",
       "      <td>None</td>\n",
       "      <td>[]</td>\n",
       "      <td>[z]</td>\n",
       "    </tr>\n",
       "    <tr>\n",
       "      <th>8</th>\n",
       "      <td>code</td>\n",
       "      <td>None</td>\n",
       "      <td>[]</td>\n",
       "      <td>[time.sleep(1)]</td>\n",
       "    </tr>\n",
       "    <tr>\n",
       "      <th>9</th>\n",
       "      <td>code</td>\n",
       "      <td>None</td>\n",
       "      <td>[]</td>\n",
       "      <td>[dlink((x, \"value\"), (y, \"value\"), lambda x: x...</td>\n",
       "    </tr>\n",
       "    <tr>\n",
       "      <th>10</th>\n",
       "      <td>code</td>\n",
       "      <td>None</td>\n",
       "      <td>[]</td>\n",
       "      <td>[dlink((y, \"value\"), (z, \"value\"), lambda y: y...</td>\n",
       "    </tr>\n",
       "    <tr>\n",
       "      <th>11</th>\n",
       "      <td>code</td>\n",
       "      <td>None</td>\n",
       "      <td>[]</td>\n",
       "      <td>[time.sleep(1)]</td>\n",
       "    </tr>\n",
       "    <tr>\n",
       "      <th>12</th>\n",
       "      <td>code</td>\n",
       "      <td>None</td>\n",
       "      <td>[]</td>\n",
       "      <td>[x.value = 4.2]</td>\n",
       "    </tr>\n",
       "  </tbody>\n",
       "</table>\n",
       "</div>"
      ],
      "text/plain": [
       "   cell_type execution_count outputs  \\\n",
       "0       code            None      []   \n",
       "1       code            None      []   \n",
       "2       code            None      []   \n",
       "3       code            None      []   \n",
       "4       code            None      []   \n",
       "5       code            None      []   \n",
       "6       code            None      []   \n",
       "7       code            None      []   \n",
       "8       code            None      []   \n",
       "9       code            None      []   \n",
       "10      code            None      []   \n",
       "11      code            None      []   \n",
       "12      code            None      []   \n",
       "\n",
       "                                               source  \n",
       "0                [from ipywidgets import FloatSlider]  \n",
       "1                       [from traitlets import dlink]  \n",
       "2                                 [import math, time]  \n",
       "3                                     [time.sleep(1)]  \n",
       "4   [x, y, z = [FloatSlider(value=1, description=a...  \n",
       "5                                                 [x]  \n",
       "6                                                 [y]  \n",
       "7                                                 [z]  \n",
       "8                                     [time.sleep(1)]  \n",
       "9   [dlink((x, \"value\"), (y, \"value\"), lambda x: x...  \n",
       "10  [dlink((y, \"value\"), (z, \"value\"), lambda y: y...  \n",
       "11                                    [time.sleep(1)]  \n",
       "12                                    [x.value = 4.2]  "
      ]
     },
     "execution_count": 7,
     "metadata": {},
     "output_type": "execute_result"
    }
   ],
   "source": [
    "nb.notebook_node.cells = list(map(new_code_cell, cells))\n",
    "nb.df"
   ]
  },
  {
   "cell_type": "markdown",
   "metadata": {},
   "source": [
    "Then you can run it. each `run` returns a `Kernel`, which exposes a `view`. \n",
    "It shows the current status, and any widgets, and lets you re-run."
   ]
  },
  {
   "cell_type": "code",
   "execution_count": null,
   "metadata": {},
   "outputs": [
    {
     "data": {
      "application/vnd.jupyter.widget-view+json": {
       "model_id": "322fc61247f8403080f2f3e30e0be11e",
       "version_major": 2,
       "version_minor": 0
      },
      "text/html": [
       "<p>Failed to display Jupyter Widget of type <code>VBox</code>.</p>\n",
       "<p>\n",
       "  If you're reading this message in the Jupyter Notebook or JupyterLab Notebook, it may mean\n",
       "  that the widgets JavaScript is still loading. If this message persists, it\n",
       "  likely means that the widgets JavaScript library is either not installed or\n",
       "  not enabled. See the <a href=\"https://ipywidgets.readthedocs.io/en/stable/user_install.html\">Jupyter\n",
       "  Widgets Documentation</a> for setup instructions.\n",
       "</p>\n",
       "<p>\n",
       "  If you're reading this message in another frontend (for example, a static\n",
       "  rendering on GitHub or <a href=\"https://nbviewer.jupyter.org/\">NBViewer</a>),\n",
       "  it may mean that your frontend doesn't currently support widgets.\n",
       "</p>\n"
      ],
      "text/plain": [
       "VBox(children=(DefaultKernelView(children=(Text(value='Untitled_0', description='📓', placeholder='Notebook Name'), Button(icon='floppy-o', layout=Layout(max_width='3em'), style=ButtonStyle()), FloatProgress(value=0.0, max=1.0), Button(icon='play', layout=Layout(max_width='3em'), style=ButtonStyle()), VBox(layout=Layout(flex='1')), Button(icon='trash', layout=Layout(max_width='3em'), style=ButtonStyle()))), DefaultKernelView(children=(Text(value='Untitled_1', description='📓', placeholder='Notebook Name'), Button(icon='floppy-o', layout=Layout(max_width='3em'), style=ButtonStyle()), FloatProgress(value=0.0, max=1.0), Button(icon='play', layout=Layout(max_width='3em'), style=ButtonStyle()), VBox(layout=Layout(flex='1')), Button(icon='trash', layout=Layout(max_width='3em'), style=ButtonStyle())))))"
      ]
     },
     "metadata": {},
     "output_type": "display_data"
    }
   ],
   "source": [
    "k1 = list(nb.run(shutdown=False))[0]\n",
    "k2 = list(nb.run(shutdown=False))[0]\n",
    "W.VBox([k1.view(), k2.view()])"
   ]
  },
  {
   "cell_type": "markdown",
   "metadata": {},
   "source": [
    "> ## TODO: make links work for real\n",
    "> _currently seeing only some of the linked messages. need to investigate_"
   ]
  },
  {
   "cell_type": "markdown",
   "metadata": {},
   "source": [
    "With one or more open Kernels, you can run just some cells."
   ]
  },
  {
   "cell_type": "code",
   "execution_count": 13,
   "metadata": {},
   "outputs": [],
   "source": [
    "list(nb.run(\n",
    "    kernels=[k1, k2], \n",
    "    cells=list(map(new_code_cell, [\n",
    "        \"import random\",\n",
    "        \"x.value = random.random() * 50\"\n",
    "    ])),\n",
    "    shutdown=False\n",
    "));"
   ]
  },
  {
   "cell_type": "markdown",
   "metadata": {},
   "source": [
    "All Widgets in a kernel are available, however you won't know their local variable names.\n",
    "\n",
    "> _🤔 this is actually pretty good, as it encourages storing identity stuff more accessibly_"
   ]
  },
  {
   "cell_type": "code",
   "execution_count": null,
   "metadata": {},
   "outputs": [],
   "source": [
    "x1 = [w for w in k1.widgets if getattr(w, \"description\", None)][0]\n",
    "x2 = [w for w in k2.widgets if getattr(w, \"description\", None)][0]"
   ]
  },
  {
   "cell_type": "markdown",
   "metadata": {},
   "source": [
    "The hosted widgets can be `link`ed or `dlink`ed to each other, or to local Widgets."
   ]
  },
  {
   "cell_type": "code",
   "execution_count": null,
   "metadata": {},
   "outputs": [],
   "source": [
    "T.dlink((x1, \"value\"), (x2, \"value\"), lambda x: x * 2);"
   ]
  }
 ],
 "metadata": {
  "kernelspec": {
   "display_name": "Python 3",
   "language": "python",
   "name": "python3"
  },
  "language_info": {
   "codemirror_mode": {
    "name": "ipython",
    "version": 3
   },
   "file_extension": ".py",
   "mimetype": "text/x-python",
   "name": "python",
   "nbconvert_exporter": "python",
   "pygments_lexer": "ipython3",
   "version": "3.6.4"
  }
 },
 "nbformat": 4,
 "nbformat_minor": 2
}
