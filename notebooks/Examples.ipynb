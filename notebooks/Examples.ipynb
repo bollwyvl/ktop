{
 "cells": [
  {
   "cell_type": "markdown",
   "metadata": {},
   "source": [
    "# A Notebook as a Widget"
   ]
  },
  {
   "cell_type": "code",
   "execution_count": null,
   "metadata": {},
   "outputs": [],
   "source": [
    "from ktop import Notebook, W, T\n",
    "import math"
   ]
  },
  {
   "cell_type": "code",
   "execution_count": null,
   "metadata": {},
   "outputs": [],
   "source": [
    "nb = Notebook(file_name=\"Untitled\")\n",
    "nb.view()"
   ]
  },
  {
   "cell_type": "markdown",
   "metadata": {},
   "source": [
    "You can save or read a file."
   ]
  },
  {
   "cell_type": "code",
   "execution_count": null,
   "metadata": {},
   "outputs": [],
   "source": [
    "raise Exception(\"this is interactive\")"
   ]
  },
  {
   "cell_type": "code",
   "execution_count": null,
   "metadata": {},
   "outputs": [],
   "source": [
    "nb.save()\n",
    "nb.load()"
   ]
  },
  {
   "cell_type": "markdown",
   "metadata": {},
   "source": [
    "> TODO: load\n",
    "\n",
    "or look at its contents"
   ]
  },
  {
   "cell_type": "code",
   "execution_count": null,
   "metadata": {},
   "outputs": [],
   "source": [
    "print(nb.ipynb)"
   ]
  },
  {
   "cell_type": "markdown",
   "metadata": {},
   "source": [
    "You set the cells, or any notebook content."
   ]
  },
  {
   "cell_type": "code",
   "execution_count": null,
   "metadata": {},
   "outputs": [],
   "source": [
    "nb.code_cells = [\n",
    "    \"\"\"from ipywidgets import FloatSlider\"\"\",\n",
    "    \"\"\"from traitlets import dlink\"\"\",\n",
    "    \"\"\"import math, time\"\"\",\n",
    "    \"\"\"time.sleep(1)\"\"\",\n",
    "    \"\"\"x, y, z = [FloatSlider(value=1.0, description=a, min=-1.0, max=1.0) for a in \"xyz\"]\"\"\",\n",
    "    \"\"\"x\"\"\",\n",
    "    \"\"\"y\"\"\",\n",
    "    \"\"\"z\"\"\",\n",
    "    \"\"\"time.sleep(1)\"\"\",\n",
    "    \"\"\"dlink((x, \"value\"), (y, \"value\"), lambda x: math.sin(x))\"\"\",\n",
    "    \"\"\"dlink((x, \"value\"), (z, \"value\"), lambda x: math.cos(x))\"\"\",\n",
    "    \"\"\"time.sleep(1)\"\"\",\n",
    "    \"\"\"x.value = 0.5\"\"\"\n",
    "    \"\"\"time.sleep(1)\"\"\",\n",
    "    \"\"\"x.value = -1.0\"\"\"\n",
    "]"
   ]
  },
  {
   "cell_type": "markdown",
   "metadata": {},
   "source": [
    "Then you can run it. Each `run` returns a `Kernel`, which exposes a `view`. \n",
    "It shows the current status, and any widgets, and lets you re-run."
   ]
  },
  {
   "cell_type": "code",
   "execution_count": null,
   "metadata": {},
   "outputs": [],
   "source": [
    "k1 = list(nb.run(shutdown=False))[0]"
   ]
  },
  {
   "cell_type": "markdown",
   "metadata": {},
   "source": [
    "You can make a second kernel, connected to the same notebook, passing `reuse=False`."
   ]
  },
  {
   "cell_type": "code",
   "execution_count": null,
   "metadata": {},
   "outputs": [],
   "source": [
    "k2 = list(nb.run(shutdown=False, reuse=False))[0]"
   ]
  },
  {
   "cell_type": "markdown",
   "metadata": {},
   "source": [
    "With one or more open Kernels, you can run just some cells."
   ]
  },
  {
   "cell_type": "code",
   "execution_count": null,
   "metadata": {},
   "outputs": [],
   "source": [
    "raise Exception(\"this is interactive\")"
   ]
  },
  {
   "cell_type": "code",
   "execution_count": null,
   "metadata": {},
   "outputs": [],
   "source": [
    "nb.code_cells = [\n",
    "    \"import time\",\n",
    "    \"import random\",\n",
    "    \"x.value = (random.random() * 2) - 1\",\n",
    "    \"time.sleep(1)\",\n",
    "    \"x.value = x.value * 2\",\n",
    "    \"time.sleep(1)\",\n",
    "    \"x.value = x.value / 3\",\n",
    "    \"time.sleep(1)\",\n",
    "    \"x.value\"\n",
    "]\n",
    "list(nb.run(\n",
    "    kernels=[k1], \n",
    "    shutdown=False\n",
    "));"
   ]
  },
  {
   "cell_type": "markdown",
   "metadata": {},
   "source": [
    "All Widgets in a kernel are available, however you won't know their local variable names.\n",
    "\n",
    "> _🤔 this is actually pretty good, as it encourages storing identity stuff more accessibly_"
   ]
  },
  {
   "cell_type": "code",
   "execution_count": null,
   "metadata": {},
   "outputs": [],
   "source": [
    "z1 = [w for w in k1.widgets if getattr(w, \"description\", None) == \"z\"][0]\n",
    "x2 = [w for w in k2.widgets if getattr(w, \"description\", None) == \"x\"][0]"
   ]
  },
  {
   "cell_type": "markdown",
   "metadata": {},
   "source": [
    "The hosted widgets can be `link`ed or `dlink`ed to each other, or to local Widgets."
   ]
  },
  {
   "cell_type": "code",
   "execution_count": null,
   "metadata": {},
   "outputs": [],
   "source": [
    "T.dlink((z1, \"value\"), (x2, \"value\"), lambda z: -1 * z);"
   ]
  },
  {
   "cell_type": "code",
   "execution_count": null,
   "metadata": {},
   "outputs": [],
   "source": []
  }
 ],
 "metadata": {
  "kernelspec": {
   "display_name": "Python 3",
   "language": "python",
   "name": "python3"
  },
  "language_info": {
   "codemirror_mode": {
    "name": "ipython",
    "version": 3
   },
   "file_extension": ".py",
   "mimetype": "text/x-python",
   "name": "python",
   "nbconvert_exporter": "python",
   "pygments_lexer": "ipython3",
   "version": "3.6.4"
  }
 },
 "nbformat": 4,
 "nbformat_minor": 2
}
