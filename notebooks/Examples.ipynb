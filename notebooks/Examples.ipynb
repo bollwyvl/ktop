{
 "cells": [
  {
   "cell_type": "markdown",
   "metadata": {},
   "source": [
    "# A Notebook as a Widget"
   ]
  },
  {
   "cell_type": "code",
   "execution_count": null,
   "metadata": {},
   "outputs": [],
   "source": [
    "from nbformat.v4 import new_code_cell\n",
    "from ipynotebookwidget import Notebook, W, T\n",
    "import math"
   ]
  },
  {
   "cell_type": "code",
   "execution_count": null,
   "metadata": {},
   "outputs": [],
   "source": [
    "nb = Notebook(file_name=\"Untitled\")"
   ]
  },
  {
   "cell_type": "markdown",
   "metadata": {},
   "source": [
    "You can save or read a file."
   ]
  },
  {
   "cell_type": "code",
   "execution_count": null,
   "metadata": {},
   "outputs": [],
   "source": [
    "nb.save()"
   ]
  },
  {
   "cell_type": "markdown",
   "metadata": {},
   "source": [
    "or look at its contents"
   ]
  },
  {
   "cell_type": "code",
   "execution_count": null,
   "metadata": {},
   "outputs": [],
   "source": [
    "print(nb.json)"
   ]
  },
  {
   "cell_type": "markdown",
   "metadata": {},
   "source": [
    "You set the cells, or any notebook content."
   ]
  },
  {
   "cell_type": "code",
   "execution_count": null,
   "metadata": {},
   "outputs": [],
   "source": [
    "cells = [\n",
    "    \"\"\"from ipywidgets import FloatSlider\"\"\",\n",
    "    \"\"\"from traitlets import dlink\"\"\",\n",
    "    \"\"\"import math, time\"\"\",\n",
    "    \"\"\"time.sleep(1)\"\"\",\n",
    "    \"\"\"x, y, z = [FloatSlider(value=1, description=a) for a in \"xyz\"]\"\"\",\n",
    "    \"\"\"x\"\"\",\n",
    "    \"\"\"y\"\"\",\n",
    "    \"\"\"z\"\"\",\n",
    "    \"\"\"time.sleep(1)\"\"\",\n",
    "    \"\"\"dlink((x, \"value\"), (y, \"value\"), lambda x: x * 4)\"\"\",\n",
    "    \"\"\"dlink((y, \"value\"), (z, \"value\"), lambda y: y / 3)\"\"\",\n",
    "    \"\"\"time.sleep(1)\"\"\",\n",
    "    \"\"\"x.value = 4.2\"\"\"\n",
    "]"
   ]
  },
  {
   "cell_type": "code",
   "execution_count": null,
   "metadata": {},
   "outputs": [],
   "source": [
    "nb.code_cells = cells\n",
    "nb.df.head()"
   ]
  },
  {
   "cell_type": "markdown",
   "metadata": {},
   "source": [
    "Then you can run it. each `run` returns a `Kernel`, which exposes a `view`. \n",
    "It shows the current status, and any widgets, and lets you re-run."
   ]
  },
  {
   "cell_type": "code",
   "execution_count": null,
   "metadata": {},
   "outputs": [],
   "source": [
    "k1 = list(nb.run(shutdown=False))[0]\n",
    "k2 = list(nb.run(shutdown=False, reuse=False))[0]\n",
    "W.VBox([k1.view(), k2.view()])"
   ]
  },
  {
   "cell_type": "markdown",
   "metadata": {},
   "source": [
    "> ## TODO: make links work for real\n",
    "> _currently seeing only some of the linked messages. need to investigate_"
   ]
  },
  {
   "cell_type": "markdown",
   "metadata": {},
   "source": [
    "With one or more open Kernels, you can run just some cells."
   ]
  },
  {
   "cell_type": "code",
   "execution_count": null,
   "metadata": {},
   "outputs": [],
   "source": [
    "raise Exception(\"this is interactive\")"
   ]
  },
  {
   "cell_type": "code",
   "execution_count": null,
   "metadata": {},
   "outputs": [],
   "source": [
    "list(nb.run(\n",
    "    kernels=[k1, k2], \n",
    "    cells=[\n",
    "        [\"import time\"],\n",
    "        [\"x.value = x.value * 2\"],\n",
    "        [\"time.sleep(1)\"],\n",
    "        [\"x.value\"]\n",
    "    ],\n",
    "    shutdown=False\n",
    "));"
   ]
  },
  {
   "cell_type": "markdown",
   "metadata": {},
   "source": [
    "All Widgets in a kernel are available, however you won't know their local variable names.\n",
    "\n",
    "> _🤔 this is actually pretty good, as it encourages storing identity stuff more accessibly_"
   ]
  },
  {
   "cell_type": "code",
   "execution_count": null,
   "metadata": {},
   "outputs": [],
   "source": [
    "x1 = [w for w in k1.widgets if getattr(w, \"description\", None) == \"x\"][0]\n",
    "x2 = [w for w in k2.widgets if getattr(w, \"description\", None) == \"x\"][0]\n",
    "W.HBox([x1, x2])"
   ]
  },
  {
   "cell_type": "markdown",
   "metadata": {},
   "source": [
    "The hosted widgets can be `link`ed or `dlink`ed to each other, or to local Widgets."
   ]
  },
  {
   "cell_type": "code",
   "execution_count": null,
   "metadata": {},
   "outputs": [],
   "source": [
    "T.dlink((x1, \"value\"), (x2, \"value\"), lambda x: 50 + (math.cos(x) * 24));"
   ]
  }
 ],
 "metadata": {
  "kernelspec": {
   "display_name": "Python 3",
   "language": "python",
   "name": "python3"
  },
  "language_info": {
   "codemirror_mode": {
    "name": "ipython",
    "version": 3
   },
   "file_extension": ".py",
   "mimetype": "text/x-python",
   "name": "python",
   "nbconvert_exporter": "python",
   "pygments_lexer": "ipython3",
   "version": "3.6.4"
  }
 },
 "nbformat": 4,
 "nbformat_minor": 2
}
